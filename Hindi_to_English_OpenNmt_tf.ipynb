{
  "nbformat": 4,
  "nbformat_minor": 0,
  "metadata": {
    "colab": {
      "name": "Hindi to English-OpenNmt-tf.ipynb",
      "provenance": []
    },
    "kernelspec": {
      "name": "python3",
      "display_name": "Python 3"
    },
    "accelerator": "GPU"
  },
  "cells": [
    {
      "cell_type": "code",
      "metadata": {
        "id": "aXl-ZoChdmTB"
      },
      "source": [
        "!git clone https://github.com/OpenNMT/OpenNMT-tf.git"
      ],
      "execution_count": null,
      "outputs": []
    },
    {
      "cell_type": "code",
      "metadata": {
        "id": "oBA_LklOLDcR"
      },
      "source": [
        "pip install OpenNMT-tf[tensorflow_gpu]"
      ],
      "execution_count": null,
      "outputs": []
    },
    {
      "cell_type": "markdown",
      "metadata": {
        "id": "2ZeyfHP1iVgZ"
      },
      "source": [
        "Run below cell only if Back-Translation is required"
      ]
    },
    {
      "cell_type": "code",
      "metadata": {
        "id": "gfDljp2siaTa"
      },
      "source": [
        "# Train a Reverse Model (Target to Source translation) for generating data using back-translation\n",
        "!onmt-main --config data.yml --auto_config infer --features_file '/content/gdrive/My Drive/Eng-Hindi/en_news_BT' --predictions_file '/content/gdrive/My Drive/Eng-Hindi/Hardik_Model/eval/en_news_BT.txt' ",
        "# To load the model and use it to predict the output \n",
        "!onmt-main --config data.yml --auto_config infer --features_file 'cleaned_test.txt' --predictions_file 'cleaned_test_pred_bpe.txt'"
      ],
      "execution_count": null,
      "outputs": []
    },
    {
      "cell_type": "markdown",
      "metadata": {
        "id": "sfdl-e6e66Bl"
      },
      "source": [
        "Only run the below cell if Using BPE"
      ]
    },
    {
      "cell_type": "code",
      "metadata": {
        "id": "-ZhYIw6I687R"
      },
      "source": [
        "#Learn and Apply Byte Pair Encoding using Train, Test and Dev Data (Both English and Hindi)\n",
        "!python OpenNMT-tf/third_party/learn_bpe.py -i \"/content/gdrive/My Drive/Eng-Hindi/cleaned_train_en\" -o \"/content/gdrive/My Drive/Eng-Hindi/Hindi_Eng_Model/tgt.code\" -s 27000\n",
        "!python OpenNMT-tf/third_party/learn_bpe.py -i \"/content/gdrive/My Drive/Eng-Hindi/cleaned_train_hi\" -o \"/content/gdrive/My Drive/Eng-Hindi/Hindi_Eng_Model/src.code\" -s 27000\n",
        "!python OpenNMT-tf/third_party/apply_bpe.py -c  \"/content/gdrive/My Drive/Eng-Hindi/Hindi_Eng_Model/tgt.code\" -i  \"/content/gdrive/My Drive/Eng-Hindi/cleaned_train_en\" -o \"/content/gdrive/My Drive/Eng-Hindi/Hindi_Eng_Model/tgt-train-bpe.txt\"\n",
        "!python OpenNMT-tf/third_party/apply_bpe.py -c  \"/content/gdrive/My Drive/Eng-Hindi/Hindi_Eng_Model/tgt.code\" -i  \"/content/gdrive/My Drive/Eng-Hindi/cleaned_dev_en\" -o \"/content/gdrive/My Drive/Eng-Hindi/Hindi_Eng_Model/tgt-val-bpe.txt\"\n",
        "!python OpenNMT-tf/third_party/apply_bpe.py -c  \"/content/gdrive/My Drive/Eng-Hindi/Hindi_Eng_Model/tgt.code\" -i  \"/content/gdrive/My Drive/Eng-Hindi/cleaned_test_en_onlysametokenintrain.txt\" -o \"/content/gdrive/My Drive/Eng-Hindi/Hindi_Eng_Model/tgt-test-bpe.txt\"\n",
        "!python OpenNMT-tf/third_party/apply_bpe.py -c \"/content/gdrive/My Drive/Eng-Hindi/Hindi_Eng_Model/src.code\" -i \"/content/gdrive/My Drive/Eng-Hindi/cleaned_train_hi\" -o \"/content/gdrive/My Drive/Eng-Hindi/Hindi_Eng_Model/src-train-bpe.txt\"\n",
        "!python OpenNMT-tf/third_party/apply_bpe.py -c \"/content/gdrive/My Drive/Eng-Hindi/Hindi_Eng_Model/src.code\" -i \"/content/gdrive/My Drive/Eng-Hindi/cleaned_dev_hi\" -o \"/content/gdrive/My Drive/Eng-Hindi/Hindi_Eng_Model/src-val-bpe.txt\"\n",
        "!python OpenNMT-tf/third_party/apply_bpe.py -c \"/content/gdrive/My Drive/Eng-Hindi/Hindi_Eng_Model/src.code\" -i \"/content/gdrive/My Drive/Eng-Hindi/cleaned_test_hi_onlysametokenintrain.txt\" -o \"/content/gdrive/My Drive/Eng-Hindi/Hindi_Eng_Model/src-test-bpe.txt\""
      ],
      "execution_count": null,
      "outputs": []
    },
    {
      "cell_type": "code",
      "metadata": {
        "id": "UQdvt4c5LNmf"
      },
      "source": [
        "#For creating Source Vocabulary using Byte Pair Encoding (BPE) for Train, Test and Dev Data\n",
        "!onmt-build-vocab --size 50000 --save_vocab \"/content/gdrive/My Drive/Eng-Hindi/Hardik_Model/tgt-train-vocab.txt\" \"/content/gdrive/My Drive/Eng-Hindi/cleaned_train_hi\"\n",
        "!onmt-build-vocab --size 50000 --save_vocab \"/content/gdrive/My Drive/Eng-Hindi/Hardik_Model/tgt-dev-vocab.txt\" \"/content/gdrive/My Drive/Eng-Hindi/cleaned_dev_hi\"\n",
        "!onmt-build-vocab --size 50000 --save_vocab \"/content/gdrive/My Drive/Eng-Hindi/Hardik_Model/tgt-test-vocab.txt\" \"/content/gdrive/My Drive/Eng-Hindi/cleaned_test_hi\"\n",
        "\n",
        "#For creating Target Vocabulary using Byte Pair Encoding (BPE) for Train, Test and Dev Data\n",
        "!onmt-build-vocab --size 50000 --save_vocab \"/content/gdrive/My Drive/Eng-Hindi/Hardik_Model/src-train-vocab.txt\" \"/content/gdrive/My Drive/Eng-Hindi/cleaned_train_en\"\n",
        "!onmt-build-vocab --size 50000 --save_vocab \"/content/gdrive/My Drive/Eng-Hindi/Hardik_Model/src-dev-vocab.txt\" \"/content/gdrive/My Drive/Eng-Hindi/cleaned_dev_en\"\n",
        "!onmt-build-vocab --size 50000 --save_vocab \"/content/gdrive/My Drive/Eng-Hindi/Hardik_Model/src-test-vocab.txt\" \"/content/gdrive/My Drive/Eng-Hindi/cleaned_test_en\""
      ],
      "execution_count": null,
      "outputs": []
    },
    {
      "cell_type": "code",
      "metadata": {
        "id": "4gaEwzGGLRdJ"
      },
      "source": [
        "#Training the Transformer Model\n",
        "#data.yml consists of all run configurations\n",
        "!onmt-main --model_type Transformer --config data.yml --auto_config train --with_eval"
      ],
      "execution_count": null,
      "outputs": []
    },
    {
      "cell_type": "code",
      "metadata": {
        "id": "TBG7I-sZVFXN",
        "outputId": "be09cbea-5bd8-40d6-f4cb-0e80d79a11e1",
        "colab": {
          "base_uri": "https://localhost:8080/",
          "height": 35
        }
      },
      "source": [
        "#download Multi-bleu perl for determining the BLEU score\n",
        "!sed -i \"s/@@ //g\" \"predictions.70000.txt\"\n",
        "!perl  multi-bleu-detok.perl \"cleaned_test_en_onlysametokenintrain.txt\" < \"predictions.70000.txt\""
      ],
      "execution_count": null,
      "outputs": [
        {
          "output_type": "stream",
          "text": [
            "BLEU = 23.45, 58.2/30.8/17.3/10.1 (BP=0.992, ratio=0.992, hyp_len=29670, ref_len=29899)\n"
          ],
          "name": "stdout"
        }
      ]
    }
  ]
}
